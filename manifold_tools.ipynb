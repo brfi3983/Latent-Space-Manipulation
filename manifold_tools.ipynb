{
 "metadata": {
  "language_info": {
   "codemirror_mode": {
    "name": "ipython",
    "version": 3
   },
   "file_extension": ".py",
   "mimetype": "text/x-python",
   "name": "python",
   "nbconvert_exporter": "python",
   "pygments_lexer": "ipython3",
   "version": "3.6.8-final"
  },
  "orig_nbformat": 2,
  "kernelspec": {
   "name": "python3",
   "display_name": "Python 3.6.8 64-bit",
   "metadata": {
    "interpreter": {
     "hash": "bc5325771484cd741460cbbcf20a153b1ef45b389ce85e60a186ce6bd8aea41f"
    }
   }
  }
 },
 "nbformat": 4,
 "nbformat_minor": 2,
 "cells": [
  {
   "cell_type": "code",
   "execution_count": 61,
   "metadata": {},
   "outputs": [],
   "source": [
    "# %matplotlib widget\n",
    "import matplotlib.pyplot as plt\n",
    "from mpl_toolkits.mplot3d import axes3d, Axes3D\n",
    "import seaborn as sns; sns.set()\n",
    "import numpy as np"
   ]
  },
  {
   "cell_type": "code",
   "execution_count": 62,
   "metadata": {},
   "outputs": [],
   "source": [
    "# Test function\n",
    "def f(x, y):\n",
    "    return x**2 + y\n",
    "\n",
    "# defining grid space\n",
    "x = np.linspace(-6, 6, 30)\n",
    "y = np.linspace(-6, 6, 30)\n",
    "X, Y = np.meshgrid(x, y)\n",
    "\n",
    "# Output of function\n",
    "z = f(x,y)\n",
    "Z = f(X,Y)"
   ]
  },
  {
   "source": [
    "The gradient of a function $f: \\mathbb{R}^n \\to \\mathbb{R}$, is\n",
    "\\begin{equation}\n",
    "    \\nabla f = \\left[ \\frac{\\partial f}{\\partial x_1}\\frac{\\partial f}{\\partial x_2}\\cdots\\frac{\\partial f}{\\partial x_n} \\right]\n",
    "\\end{equation}\n",
    "\n",
    "Likewise, the gradient of the function $f$ is defined to be\n",
    "\\begin{equation}\n",
    "\\nabla^2 f = \\begin{bmatrix} \n",
    "\\frac{\\partial^2 f}{\\partial x_1^2} & \\frac{\\partial^2 f}{\\partial x_2 x_1} & \\dots & \\frac{\\partial^2 f}{\\partial x_n x_1} \\\\\n",
    "\\frac{\\partial^2 f}{\\partial x_1 x_2} & \\frac{\\partial^2 f}{\\partial x_2^2} & \\dots & \\frac{\\partial^2 f}{\\partial x_n x_2} \\\\\n",
    "\\vdots & \\vdots & \\ddots & \\vdots \\\\\n",
    "\\frac{\\partial^2 f}{\\partial x_1 x_n} & \\frac{\\partial^2 f}{\\partial x_2 x_n} & \\dots & \\frac{\\partial^2 f}{\\partial x_n^2}\n",
    "\\end{bmatrix}\n",
    "\\end{equation}\n",
    "The relationship between the Hessian and the Jacobian is given as\n",
    "\\begin{equation}\n",
    "    \\textbf{H}(f(x)) = \\textbf{J}(\\nabla f(x))^T\n",
    "\\end{equation}\n"
   ],
   "cell_type": "markdown",
   "metadata": {}
  },
  {
   "cell_type": "code",
   "execution_count": 63,
   "metadata": {
    "tags": []
   },
   "outputs": [],
   "source": [
    "# Line Plot along surface (will update to include geodesic calculation)\n",
    "w = np.linspace(0, 4, 50)\n",
    "v = np.tile(2, 50)\n",
    "t = f(w,v)\n",
    "\n",
    "# Gradient at a point (will update to include other metrics - Jacobian, directional derivative, )\n",
    "grad = np.gradient(Z,2,4)"
   ]
  },
  {
   "cell_type": "code",
   "execution_count": 64,
   "metadata": {},
   "outputs": [
    {
     "output_type": "display_data",
     "data": {
      "text/plain": "Canvas(toolbar=Toolbar(toolitems=[('Home', 'Reset original view', 'home', 'home'), ('Back', 'Back to previous …",
      "application/vnd.jupyter.widget-view+json": {
       "version_major": 2,
       "version_minor": 0,
       "model_id": "7d0892f7fae2476dbe7c6324c3b30b25"
      }
     },
     "metadata": {}
    }
   ],
   "source": [
    "# Plotting 3D surface\n",
    "plt.figure(figsize=(16,9))\n",
    "ax = plt.axes(projection='3d')\n",
    "ax.set_title('Surface of Latent Space')\n",
    "ax.plot_surface(X, Y, Z, rstride=1, cstride=1,\n",
    "                cmap='viridis', edgecolor='none', alpha=0.8)\n",
    "\n",
    "# Plotting Line (soon to be geodesic)\n",
    "ax.plot(w,v,t, marker='o', markersize=1)\n",
    "\n",
    "# Parameters\n",
    "ax.set_xlabel('W')\n",
    "ax.set_ylabel('V')\n",
    "ax.set_title('Z')\n",
    "ax.view_init(elev=26, azim=-80)"
   ]
  },
  {
   "cell_type": "code",
   "execution_count": 65,
   "metadata": {},
   "outputs": [
    {
     "output_type": "display_data",
     "data": {
      "text/plain": "Canvas(toolbar=Toolbar(toolitems=[('Home', 'Reset original view', 'home', 'home'), ('Back', 'Back to previous …",
      "application/vnd.jupyter.widget-view+json": {
       "version_major": 2,
       "version_minor": 0,
       "model_id": "087723b65481498b98423c71ab7c1a71"
      }
     },
     "metadata": {}
    }
   ],
   "source": [
    "# Triangulation Graph\n",
    "plt.figure(figsize=(16,9))\n",
    "ax = plt.axes(projection='3d')\n",
    "ax.set_title('Surface of Latent Space')\n",
    "ax.plot_trisurf(X.flatten(), Y.flatten(), Z.flatten(),\n",
    "                cmap='viridis', edgecolor='none')\n",
    "\n",
    "# Plotting Line (soon to be geodesic)\n",
    "ax.plot(w,v,t, marker='o', markersize=1)\n",
    "\n",
    "# Parameters\n",
    "ax.set_xlabel('W')\n",
    "ax.set_ylabel('V')\n",
    "ax.set_title('Z')\n",
    "ax.view_init(elev=26, azim=-80)"
   ]
  },
  {
   "cell_type": "code",
   "execution_count": null,
   "metadata": {},
   "outputs": [],
   "source": []
  }
 ]
}